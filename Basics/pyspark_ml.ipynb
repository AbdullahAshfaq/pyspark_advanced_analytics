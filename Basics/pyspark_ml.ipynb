{
 "cells": [
  {
   "cell_type": "markdown",
   "metadata": {},
   "source": [
    "# Spark ML-Regression\n",
    "Using age and experience to estimate salary"
   ]
  },
  {
   "cell_type": "code",
   "execution_count": 2,
   "metadata": {},
   "outputs": [],
   "source": [
    "from pyspark.sql import SparkSession"
   ]
  },
  {
   "cell_type": "code",
   "execution_count": 4,
   "metadata": {},
   "outputs": [
    {
     "name": "stderr",
     "output_type": "stream",
     "text": [
      "c:\\Users\\abdul\\.pyenv\\pyenv-win\\versions\\3.7.3\\lib\\site-packages\\pyspark\\context.py:317: FutureWarning: Python 3.7 support is deprecated in Spark 3.4.\n",
      "  warnings.warn(\"Python 3.7 support is deprecated in Spark 3.4.\", FutureWarning)\n"
     ]
    }
   ],
   "source": [
    "spark = SparkSession.builder.appName('ML').getOrCreate()"
   ]
  },
  {
   "cell_type": "code",
   "execution_count": 5,
   "metadata": {},
   "outputs": [],
   "source": [
    "df = spark.read.csv('test4.csv', header=True, inferSchema=True)"
   ]
  },
  {
   "cell_type": "code",
   "execution_count": 7,
   "metadata": {},
   "outputs": [
    {
     "name": "stdout",
     "output_type": "stream",
     "text": [
      "+---------+---+----------+------+\n",
      "|     Name|age|Experience|Salary|\n",
      "+---------+---+----------+------+\n",
      "|    Krish| 31|        10| 30000|\n",
      "|Sudhanshu| 30|         8| 25000|\n",
      "|    Sunny| 29|         4| 20000|\n",
      "|     Paul| 24|         3| 20000|\n",
      "|   Harsha| 21|         1| 15000|\n",
      "|  Shubham| 23|         2| 18000|\n",
      "+---------+---+----------+------+\n",
      "\n"
     ]
    }
   ],
   "source": [
    "df.show()"
   ]
  },
  {
   "cell_type": "code",
   "execution_count": 10,
   "metadata": {},
   "outputs": [
    {
     "data": {
      "text/plain": [
       "['Name', 'age', 'Experience', 'Salary']"
      ]
     },
     "execution_count": 10,
     "metadata": {},
     "output_type": "execute_result"
    }
   ],
   "source": [
    "training = df\n",
    "training.columns"
   ]
  },
  {
   "cell_type": "markdown",
   "metadata": {},
   "source": [
    "Training cols: ['age', 'Experience']  \n",
    "Output col: 'Salary'"
   ]
  },
  {
   "cell_type": "code",
   "execution_count": 11,
   "metadata": {},
   "outputs": [],
   "source": [
    "from pyspark.ml.feature import VectorAssembler\n",
    "featureassembler = VectorAssembler(inputCols=['age', 'Experience'], outputCol='Grouped Inputs')"
   ]
  },
  {
   "cell_type": "code",
   "execution_count": 12,
   "metadata": {},
   "outputs": [
    {
     "name": "stdout",
     "output_type": "stream",
     "text": [
      "+---------+---+----------+------+--------------+\n",
      "|     Name|age|Experience|Salary|Grouped Inputs|\n",
      "+---------+---+----------+------+--------------+\n",
      "|    Krish| 31|        10| 30000|   [31.0,10.0]|\n",
      "|Sudhanshu| 30|         8| 25000|    [30.0,8.0]|\n",
      "|    Sunny| 29|         4| 20000|    [29.0,4.0]|\n",
      "|     Paul| 24|         3| 20000|    [24.0,3.0]|\n",
      "|   Harsha| 21|         1| 15000|    [21.0,1.0]|\n",
      "|  Shubham| 23|         2| 18000|    [23.0,2.0]|\n",
      "+---------+---+----------+------+--------------+\n",
      "\n"
     ]
    }
   ],
   "source": [
    "output = featureassembler.transform(training)\n",
    "output.show() # The VectorAssembler only combines the features into an array"
   ]
  },
  {
   "cell_type": "code",
   "execution_count": 14,
   "metadata": {},
   "outputs": [
    {
     "name": "stdout",
     "output_type": "stream",
     "text": [
      "+--------------+------+\n",
      "|Grouped Inputs|Salary|\n",
      "+--------------+------+\n",
      "|   [31.0,10.0]| 30000|\n",
      "|    [30.0,8.0]| 25000|\n",
      "|    [29.0,4.0]| 20000|\n",
      "|    [24.0,3.0]| 20000|\n",
      "|    [21.0,1.0]| 15000|\n",
      "|    [23.0,2.0]| 18000|\n",
      "+--------------+------+\n",
      "\n"
     ]
    }
   ],
   "source": [
    "final_dataset = output[['Grouped Inputs','Salary']]\n",
    "final_dataset.show()"
   ]
  },
  {
   "cell_type": "code",
   "execution_count": 15,
   "metadata": {},
   "outputs": [
    {
     "data": {
      "text/plain": [
       "LinearRegressionModel: uid=LinearRegression_fa9f20ebebec, numFeatures=2"
      ]
     },
     "execution_count": 15,
     "metadata": {},
     "output_type": "execute_result"
    }
   ],
   "source": [
    "from pyspark.ml.regression import LinearRegression\n",
    "train_data, test_data = final_dataset.randomSplit([0.75,0.25])\n",
    "regressor = LinearRegression(featuresCol='Grouped Inputs', labelCol='Salary')\n",
    "regressor = regressor.fit(train_data)\n",
    "regressor"
   ]
  },
  {
   "cell_type": "code",
   "execution_count": 16,
   "metadata": {},
   "outputs": [
    {
     "data": {
      "text/plain": [
       "DenseVector([47.619, 1285.7143])"
      ]
     },
     "execution_count": 16,
     "metadata": {},
     "output_type": "execute_result"
    }
   ],
   "source": [
    "regressor.coefficients"
   ]
  },
  {
   "cell_type": "code",
   "execution_count": 17,
   "metadata": {},
   "outputs": [
    {
     "data": {
      "text/plain": [
       "13619.047619047662"
      ]
     },
     "execution_count": 17,
     "metadata": {},
     "output_type": "execute_result"
    }
   ],
   "source": [
    "regressor.intercept"
   ]
  },
  {
   "cell_type": "code",
   "execution_count": 19,
   "metadata": {},
   "outputs": [
    {
     "data": {
      "text/plain": [
       "<pyspark.ml.regression.LinearRegressionSummary at 0x27affacf240>"
      ]
     },
     "execution_count": 19,
     "metadata": {},
     "output_type": "execute_result"
    }
   ],
   "source": [
    "pred_results = regressor.evaluate(test_data)\n",
    "pred_results"
   ]
  },
  {
   "cell_type": "code",
   "execution_count": 20,
   "metadata": {},
   "outputs": [
    {
     "name": "stdout",
     "output_type": "stream",
     "text": [
      "+--------------+------+-----------------+\n",
      "|Grouped Inputs|Salary|       prediction|\n",
      "+--------------+------+-----------------+\n",
      "|    [23.0,2.0]| 18000|17285.71428571428|\n",
      "|   [31.0,10.0]| 30000|27952.38095238097|\n",
      "+--------------+------+-----------------+\n",
      "\n"
     ]
    }
   ],
   "source": [
    "pred_results.predictions.show()"
   ]
  },
  {
   "cell_type": "code",
   "execution_count": 24,
   "metadata": {},
   "outputs": [
    {
     "name": "stdout",
     "output_type": "stream",
     "text": [
      "+---------+---+----------+------+--------------+\n",
      "|     Name|age|Experience|Salary|Grouped Inputs|\n",
      "+---------+---+----------+------+--------------+\n",
      "|    Krish| 31|        10| 30000|   [31.0,10.0]|\n",
      "|Sudhanshu| 30|         8| 25000|    [30.0,8.0]|\n",
      "|    Sunny| 29|         4| 20000|    [29.0,4.0]|\n",
      "|     Paul| 24|         3| 20000|    [24.0,3.0]|\n",
      "|   Harsha| 21|         1| 15000|    [21.0,1.0]|\n",
      "|  Shubham| 23|         2| 18000|    [23.0,2.0]|\n",
      "+---------+---+----------+------+--------------+\n",
      "\n"
     ]
    }
   ],
   "source": [
    "output.show()"
   ]
  },
  {
   "cell_type": "markdown",
   "metadata": {},
   "source": [
    "# Multi-Linear Regression"
   ]
  },
  {
   "cell_type": "code",
   "execution_count": 26,
   "metadata": {},
   "outputs": [],
   "source": [
    "spark = spark.builder.appName('ML').getOrCreate()"
   ]
  },
  {
   "cell_type": "code",
   "execution_count": 27,
   "metadata": {},
   "outputs": [],
   "source": [
    "df = spark.read.csv('tips.csv', header=True, inferSchema=True)\n"
   ]
  },
  {
   "cell_type": "code",
   "execution_count": 28,
   "metadata": {},
   "outputs": [
    {
     "name": "stdout",
     "output_type": "stream",
     "text": [
      "+----------+----+------+------+---+------+----+\n",
      "|total_bill| tip|   sex|smoker|day|  time|size|\n",
      "+----------+----+------+------+---+------+----+\n",
      "|     16.99|1.01|Female|    No|Sun|Dinner|   2|\n",
      "|     10.34|1.66|  Male|    No|Sun|Dinner|   3|\n",
      "|     21.01| 3.5|  Male|    No|Sun|Dinner|   3|\n",
      "|     23.68|3.31|  Male|    No|Sun|Dinner|   2|\n",
      "|     24.59|3.61|Female|    No|Sun|Dinner|   4|\n",
      "|     25.29|4.71|  Male|    No|Sun|Dinner|   4|\n",
      "|      8.77| 2.0|  Male|    No|Sun|Dinner|   2|\n",
      "|     26.88|3.12|  Male|    No|Sun|Dinner|   4|\n",
      "|     15.04|1.96|  Male|    No|Sun|Dinner|   2|\n",
      "|     14.78|3.23|  Male|    No|Sun|Dinner|   2|\n",
      "|     10.27|1.71|  Male|    No|Sun|Dinner|   2|\n",
      "|     35.26| 5.0|Female|    No|Sun|Dinner|   4|\n",
      "|     15.42|1.57|  Male|    No|Sun|Dinner|   2|\n",
      "|     18.43| 3.0|  Male|    No|Sun|Dinner|   4|\n",
      "|     14.83|3.02|Female|    No|Sun|Dinner|   2|\n",
      "|     21.58|3.92|  Male|    No|Sun|Dinner|   2|\n",
      "|     10.33|1.67|Female|    No|Sun|Dinner|   3|\n",
      "|     16.29|3.71|  Male|    No|Sun|Dinner|   3|\n",
      "|     16.97| 3.5|Female|    No|Sun|Dinner|   3|\n",
      "|     20.65|3.35|  Male|    No|Sat|Dinner|   3|\n",
      "+----------+----+------+------+---+------+----+\n",
      "only showing top 20 rows\n",
      "\n"
     ]
    }
   ],
   "source": [
    "df.show()"
   ]
  },
  {
   "cell_type": "markdown",
   "metadata": {},
   "source": [
    "We want to use ['tip', 'sex', 'smoker', 'day', 'time', 'size'] to predict total_bill"
   ]
  },
  {
   "cell_type": "code",
   "execution_count": 34,
   "metadata": {},
   "outputs": [],
   "source": [
    "# To handle categorical features\n",
    "from pyspark.ml.feature import StringIndexer"
   ]
  },
  {
   "cell_type": "code",
   "execution_count": 35,
   "metadata": {},
   "outputs": [
    {
     "name": "stdout",
     "output_type": "stream",
     "text": [
      "+----------+----+------+------+---+------+----+-------+\n",
      "|total_bill| tip|   sex|smoker|day|  time|size|sex_idx|\n",
      "+----------+----+------+------+---+------+----+-------+\n",
      "|     16.99|1.01|Female|    No|Sun|Dinner|   2|    1.0|\n",
      "|     10.34|1.66|  Male|    No|Sun|Dinner|   3|    0.0|\n",
      "|     21.01| 3.5|  Male|    No|Sun|Dinner|   3|    0.0|\n",
      "|     23.68|3.31|  Male|    No|Sun|Dinner|   2|    0.0|\n",
      "|     24.59|3.61|Female|    No|Sun|Dinner|   4|    1.0|\n",
      "|     25.29|4.71|  Male|    No|Sun|Dinner|   4|    0.0|\n",
      "|      8.77| 2.0|  Male|    No|Sun|Dinner|   2|    0.0|\n",
      "|     26.88|3.12|  Male|    No|Sun|Dinner|   4|    0.0|\n",
      "|     15.04|1.96|  Male|    No|Sun|Dinner|   2|    0.0|\n",
      "|     14.78|3.23|  Male|    No|Sun|Dinner|   2|    0.0|\n",
      "|     10.27|1.71|  Male|    No|Sun|Dinner|   2|    0.0|\n",
      "|     35.26| 5.0|Female|    No|Sun|Dinner|   4|    1.0|\n",
      "|     15.42|1.57|  Male|    No|Sun|Dinner|   2|    0.0|\n",
      "|     18.43| 3.0|  Male|    No|Sun|Dinner|   4|    0.0|\n",
      "|     14.83|3.02|Female|    No|Sun|Dinner|   2|    1.0|\n",
      "|     21.58|3.92|  Male|    No|Sun|Dinner|   2|    0.0|\n",
      "|     10.33|1.67|Female|    No|Sun|Dinner|   3|    1.0|\n",
      "|     16.29|3.71|  Male|    No|Sun|Dinner|   3|    0.0|\n",
      "|     16.97| 3.5|Female|    No|Sun|Dinner|   3|    1.0|\n",
      "|     20.65|3.35|  Male|    No|Sat|Dinner|   3|    0.0|\n",
      "+----------+----+------+------+---+------+----+-------+\n",
      "only showing top 20 rows\n",
      "\n"
     ]
    }
   ],
   "source": [
    "indexer = StringIndexer(inputCol='sex', outputCol='sex_idx')\n",
    "df_r = indexer.fit(df).transform(df)\n",
    "df_r.show()"
   ]
  },
  {
   "cell_type": "code",
   "execution_count": 36,
   "metadata": {},
   "outputs": [
    {
     "name": "stdout",
     "output_type": "stream",
     "text": [
      "+----------+----+------+------+---+------+----+-------+----------+-------+--------+\n",
      "|total_bill| tip|   sex|smoker|day|  time|size|sex_idx|smoker_idx|day_idx|time_idx|\n",
      "+----------+----+------+------+---+------+----+-------+----------+-------+--------+\n",
      "|     16.99|1.01|Female|    No|Sun|Dinner|   2|    1.0|       0.0|    1.0|     0.0|\n",
      "|     10.34|1.66|  Male|    No|Sun|Dinner|   3|    0.0|       0.0|    1.0|     0.0|\n",
      "|     21.01| 3.5|  Male|    No|Sun|Dinner|   3|    0.0|       0.0|    1.0|     0.0|\n",
      "|     23.68|3.31|  Male|    No|Sun|Dinner|   2|    0.0|       0.0|    1.0|     0.0|\n",
      "|     24.59|3.61|Female|    No|Sun|Dinner|   4|    1.0|       0.0|    1.0|     0.0|\n",
      "|     25.29|4.71|  Male|    No|Sun|Dinner|   4|    0.0|       0.0|    1.0|     0.0|\n",
      "|      8.77| 2.0|  Male|    No|Sun|Dinner|   2|    0.0|       0.0|    1.0|     0.0|\n",
      "|     26.88|3.12|  Male|    No|Sun|Dinner|   4|    0.0|       0.0|    1.0|     0.0|\n",
      "|     15.04|1.96|  Male|    No|Sun|Dinner|   2|    0.0|       0.0|    1.0|     0.0|\n",
      "|     14.78|3.23|  Male|    No|Sun|Dinner|   2|    0.0|       0.0|    1.0|     0.0|\n",
      "|     10.27|1.71|  Male|    No|Sun|Dinner|   2|    0.0|       0.0|    1.0|     0.0|\n",
      "|     35.26| 5.0|Female|    No|Sun|Dinner|   4|    1.0|       0.0|    1.0|     0.0|\n",
      "|     15.42|1.57|  Male|    No|Sun|Dinner|   2|    0.0|       0.0|    1.0|     0.0|\n",
      "|     18.43| 3.0|  Male|    No|Sun|Dinner|   4|    0.0|       0.0|    1.0|     0.0|\n",
      "|     14.83|3.02|Female|    No|Sun|Dinner|   2|    1.0|       0.0|    1.0|     0.0|\n",
      "|     21.58|3.92|  Male|    No|Sun|Dinner|   2|    0.0|       0.0|    1.0|     0.0|\n",
      "|     10.33|1.67|Female|    No|Sun|Dinner|   3|    1.0|       0.0|    1.0|     0.0|\n",
      "|     16.29|3.71|  Male|    No|Sun|Dinner|   3|    0.0|       0.0|    1.0|     0.0|\n",
      "|     16.97| 3.5|Female|    No|Sun|Dinner|   3|    1.0|       0.0|    1.0|     0.0|\n",
      "|     20.65|3.35|  Male|    No|Sat|Dinner|   3|    0.0|       0.0|    0.0|     0.0|\n",
      "+----------+----+------+------+---+------+----+-------+----------+-------+--------+\n",
      "only showing top 20 rows\n",
      "\n"
     ]
    }
   ],
   "source": [
    "# To index multiple features at the same time\n",
    "indexer = StringIndexer(inputCols=['smoker','day','time'], outputCols=['smoker_idx','day_idx','time_idx'])\n",
    "df_r = indexer.fit(df_r).transform(df_r)\n",
    "df_r.show()"
   ]
  },
  {
   "cell_type": "code",
   "execution_count": 46,
   "metadata": {},
   "outputs": [
    {
     "name": "stdout",
     "output_type": "stream",
     "text": [
      "+------------+\n",
      "|max(day_idx)|\n",
      "+------------+\n",
      "|         3.0|\n",
      "+------------+\n",
      "\n"
     ]
    }
   ],
   "source": [
    "df_r.agg({'day_idx': 'max'}).show()"
   ]
  },
  {
   "cell_type": "code",
   "execution_count": 47,
   "metadata": {},
   "outputs": [
    {
     "data": {
      "text/plain": [
       "[('total_bill', 'double'),\n",
       " ('tip', 'double'),\n",
       " ('sex', 'string'),\n",
       " ('smoker', 'string'),\n",
       " ('day', 'string'),\n",
       " ('time', 'string'),\n",
       " ('size', 'int'),\n",
       " ('sex_idx', 'double'),\n",
       " ('smoker_idx', 'double'),\n",
       " ('day_idx', 'double'),\n",
       " ('time_idx', 'double')]"
      ]
     },
     "execution_count": 47,
     "metadata": {},
     "output_type": "execute_result"
    }
   ],
   "source": [
    "df_r.dtypes"
   ]
  },
  {
   "cell_type": "code",
   "execution_count": 48,
   "metadata": {},
   "outputs": [
    {
     "name": "stdout",
     "output_type": "stream",
     "text": [
      "+--------------------+\n",
      "|   Independent Feats|\n",
      "+--------------------+\n",
      "|[1.01,2.0,1.0,0.0...|\n",
      "|[1.66,3.0,0.0,0.0...|\n",
      "|[3.5,3.0,0.0,0.0,...|\n",
      "|[3.31,2.0,0.0,0.0...|\n",
      "|[3.61,4.0,1.0,0.0...|\n",
      "|[4.71,4.0,0.0,0.0...|\n",
      "|[2.0,2.0,0.0,0.0,...|\n",
      "|[3.12,4.0,0.0,0.0...|\n",
      "|[1.96,2.0,0.0,0.0...|\n",
      "|[3.23,2.0,0.0,0.0...|\n",
      "|[1.71,2.0,0.0,0.0...|\n",
      "|[5.0,4.0,1.0,0.0,...|\n",
      "|[1.57,2.0,0.0,0.0...|\n",
      "|[3.0,4.0,0.0,0.0,...|\n",
      "|[3.02,2.0,1.0,0.0...|\n",
      "|[3.92,2.0,0.0,0.0...|\n",
      "|[1.67,3.0,1.0,0.0...|\n",
      "|[3.71,3.0,0.0,0.0...|\n",
      "|[3.5,3.0,1.0,0.0,...|\n",
      "|(6,[0,1],[3.35,3.0])|\n",
      "+--------------------+\n",
      "only showing top 20 rows\n",
      "\n"
     ]
    }
   ],
   "source": [
    "from pyspark.ml.feature import VectorAssembler\n",
    "featureassembler = VectorAssembler(inputCols=['tip','size','sex_idx','smoker_idx','day_idx','time_idx'], outputCol='Independent Feats')\n",
    "output = featureassembler.transform(df_r)\n",
    "output[['Independent Feats']].show()"
   ]
  },
  {
   "cell_type": "code",
   "execution_count": 49,
   "metadata": {},
   "outputs": [],
   "source": [
    "from pyspark.ml.regression import LinearRegression\n",
    "## train.test split\n",
    "train_data, test_data = output.randomSplit([0.75, 0.25])\n",
    "regressor = LinearRegression(featuresCol='Independent Feats', labelCol='total_bill')\n",
    "regressor = regressor.fit(train_data)"
   ]
  },
  {
   "cell_type": "code",
   "execution_count": 50,
   "metadata": {},
   "outputs": [
    {
     "data": {
      "text/plain": [
       "DenseVector([2.992, 4.0129, -0.8691, 2.615, -0.2392, -0.4504])"
      ]
     },
     "execution_count": 50,
     "metadata": {},
     "output_type": "execute_result"
    }
   ],
   "source": [
    "regressor.coefficients"
   ]
  },
  {
   "cell_type": "code",
   "execution_count": 51,
   "metadata": {},
   "outputs": [
    {
     "data": {
      "text/plain": [
       "0.01605366012098355"
      ]
     },
     "execution_count": 51,
     "metadata": {},
     "output_type": "execute_result"
    }
   ],
   "source": [
    "regressor.intercept"
   ]
  },
  {
   "cell_type": "code",
   "execution_count": 52,
   "metadata": {},
   "outputs": [],
   "source": [
    "pred_results = regressor.evaluate(test_data)"
   ]
  },
  {
   "cell_type": "code",
   "execution_count": 53,
   "metadata": {},
   "outputs": [
    {
     "name": "stdout",
     "output_type": "stream",
     "text": [
      "+----------+----+------+------+----+------+----+-------+----------+-------+--------+--------------------+------------------+\n",
      "|total_bill| tip|   sex|smoker| day|  time|size|sex_idx|smoker_idx|day_idx|time_idx|   Independent Feats|        prediction|\n",
      "+----------+----+------+------+----+------+----+-------+----------+-------+--------+--------------------+------------------+\n",
      "|      9.94|1.56|  Male|    No| Sun|Dinner|   2|    0.0|       0.0|    1.0|     0.0|[1.56,2.0,0.0,0.0...|12.470197995321872|\n",
      "|     10.09| 2.0|Female|   Yes| Fri| Lunch|   2|    1.0|       1.0|    3.0|     1.0|[2.0,2.0,1.0,1.0,...|14.603947480192696|\n",
      "|     10.27|1.71|  Male|    No| Sun|Dinner|   2|    0.0|       0.0|    1.0|     0.0|[1.71,2.0,0.0,0.0...| 12.91899763852952|\n",
      "|     10.34|1.66|  Male|    No| Sun|Dinner|   3|    0.0|       0.0|    1.0|     0.0|[1.66,3.0,0.0,0.0...|16.782296160962563|\n",
      "|     10.65| 1.5|Female|    No|Thur| Lunch|   2|    1.0|       0.0|    2.0|     1.0|[1.5,2.0,1.0,0.0,...|10.732079905177986|\n",
      "|     10.77|1.47|  Male|    No| Sat|Dinner|   2|    0.0|       0.0|    0.0|     0.0|(6,[0,1],[1.47,2.0])|12.440086970560445|\n",
      "|     11.24|1.76|  Male|   Yes| Sat|Dinner|   2|    0.0|       1.0|    0.0|     0.0|[1.76,2.0,0.0,1.0...|15.922803806247613|\n",
      "|     12.66| 2.5|  Male|    No| Sun|Dinner|   2|    0.0|       0.0|    1.0|     0.0|[2.5,2.0,0.0,0.0,...| 15.28267575942313|\n",
      "|      13.0| 2.0|Female|   Yes|Thur| Lunch|   2|    1.0|       1.0|    2.0|     1.0|[2.0,2.0,1.0,1.0,...|14.843116241355858|\n",
      "|     13.27| 2.5|Female|   Yes| Sat|Dinner|   2|    1.0|       1.0|    0.0|     0.0|[2.5,2.0,1.0,1.0,...| 17.26780634044144|\n",
      "|     13.37| 2.0|  Male|    No| Sat|Dinner|   2|    0.0|       0.0|    0.0|     0.0| (6,[0,1],[2.0,2.0])|14.025845709894133|\n",
      "|     13.39|2.61|Female|    No| Sun|Dinner|   2|    1.0|       0.0|    1.0|     0.0|[2.61,2.0,1.0,0.0...|14.742719792144834|\n",
      "|     14.15| 2.0|Female|    No|Thur| Lunch|   2|    1.0|       0.0|    2.0|     1.0|[2.0,2.0,1.0,0.0,...|12.228078715870144|\n",
      "|     14.31| 4.0|Female|   Yes| Sat|Dinner|   2|    1.0|       1.0|    0.0|     0.0|[4.0,2.0,1.0,1.0,...| 21.75580277251791|\n",
      "|     15.01|2.09|  Male|   Yes| Sat|Dinner|   2|    0.0|       1.0|    0.0|     0.0|[2.09,2.0,0.0,1.0...|16.910163021304438|\n",
      "|     15.04|1.96|  Male|    No| Sun|Dinner|   2|    0.0|       0.0|    1.0|     0.0|[1.96,2.0,0.0,0.0...|  13.6669970438756|\n",
      "|     15.53| 3.0|  Male|   Yes| Sat|Dinner|   2|    0.0|       1.0|    0.0|     0.0|[3.0,2.0,0.0,1.0,...|19.632880856764167|\n",
      "|     15.69| 3.0|  Male|   Yes| Sat|Dinner|   3|    0.0|       1.0|    0.0|     0.0|[3.0,3.0,0.0,1.0,...|23.645779260266426|\n",
      "|     15.95| 2.0|  Male|    No|Thur| Lunch|   2|    0.0|       0.0|    2.0|     1.0|[2.0,2.0,0.0,0.0,...|13.097154421500713|\n",
      "|     16.04|2.24|  Male|    No| Sat|Dinner|   3|    0.0|       0.0|    0.0|     0.0|(6,[0,1],[2.24,3.0])|18.756823542528632|\n",
      "+----------+----+------+------+----+------+----+-------+----------+-------+--------+--------------------+------------------+\n",
      "only showing top 20 rows\n",
      "\n"
     ]
    }
   ],
   "source": [
    "pred_results.predictions.show()"
   ]
  },
  {
   "cell_type": "code",
   "execution_count": 54,
   "metadata": {},
   "outputs": [
    {
     "data": {
      "text/plain": [
       "(0.5202421090995031, 4.908860843722387, 41.35817674907305)"
      ]
     },
     "execution_count": 54,
     "metadata": {},
     "output_type": "execute_result"
    }
   ],
   "source": [
    "# Some metrics\n",
    "pred_results.r2, pred_results.meanAbsoluteError, pred_results.meanSquaredError"
   ]
  },
  {
   "cell_type": "code",
   "execution_count": null,
   "metadata": {},
   "outputs": [],
   "source": []
  }
 ],
 "metadata": {
  "kernelspec": {
   "display_name": "Python 3",
   "language": "python",
   "name": "python3"
  },
  "language_info": {
   "codemirror_mode": {
    "name": "ipython",
    "version": 3
   },
   "file_extension": ".py",
   "mimetype": "text/x-python",
   "name": "python",
   "nbconvert_exporter": "python",
   "pygments_lexer": "ipython3",
   "version": "3.7.3"
  }
 },
 "nbformat": 4,
 "nbformat_minor": 2
}
